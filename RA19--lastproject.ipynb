{
 "cells": [
  {
   "cell_type": "code",
   "execution_count": 2,
   "metadata": {
    "collapsed": true
   },
   "outputs": [],
   "source": [
    "import pandas as pd\n",
    "from ast import literal_eval\n"
   ]
  },
  {
   "cell_type": "code",
   "execution_count": 3,
   "metadata": {
    "collapsed": false
   },
   "outputs": [],
   "source": [
    "df = pd.read_csv(\"/Users/ishitagopal/Box/the-movies-dataset/credits.csv\")"
   ]
  },
  {
   "cell_type": "code",
   "execution_count": 3,
   "metadata": {
    "collapsed": false
   },
   "outputs": [
    {
     "data": {
      "text/html": [
       "<div>\n",
       "<table border=\"1\" class=\"dataframe\">\n",
       "  <thead>\n",
       "    <tr style=\"text-align: right;\">\n",
       "      <th></th>\n",
       "      <th>cast</th>\n",
       "      <th>crew</th>\n",
       "      <th>id</th>\n",
       "    </tr>\n",
       "  </thead>\n",
       "  <tbody>\n",
       "    <tr>\n",
       "      <th>0</th>\n",
       "      <td>[{'cast_id': 14, 'character': 'Woody (voice)',...</td>\n",
       "      <td>[{'credit_id': '52fe4284c3a36847f8024f49', 'de...</td>\n",
       "      <td>862</td>\n",
       "    </tr>\n",
       "    <tr>\n",
       "      <th>1</th>\n",
       "      <td>[{'cast_id': 1, 'character': 'Alan Parrish', '...</td>\n",
       "      <td>[{'credit_id': '52fe44bfc3a36847f80a7cd1', 'de...</td>\n",
       "      <td>8844</td>\n",
       "    </tr>\n",
       "    <tr>\n",
       "      <th>2</th>\n",
       "      <td>[{'cast_id': 2, 'character': 'Max Goldman', 'c...</td>\n",
       "      <td>[{'credit_id': '52fe466a9251416c75077a89', 'de...</td>\n",
       "      <td>15602</td>\n",
       "    </tr>\n",
       "    <tr>\n",
       "      <th>3</th>\n",
       "      <td>[{'cast_id': 1, 'character': \"Savannah 'Vannah...</td>\n",
       "      <td>[{'credit_id': '52fe44779251416c91011acb', 'de...</td>\n",
       "      <td>31357</td>\n",
       "    </tr>\n",
       "    <tr>\n",
       "      <th>4</th>\n",
       "      <td>[{'cast_id': 1, 'character': 'George Banks', '...</td>\n",
       "      <td>[{'credit_id': '52fe44959251416c75039ed7', 'de...</td>\n",
       "      <td>11862</td>\n",
       "    </tr>\n",
       "  </tbody>\n",
       "</table>\n",
       "</div>"
      ],
      "text/plain": [
       "                                                cast  \\\n",
       "0  [{'cast_id': 14, 'character': 'Woody (voice)',...   \n",
       "1  [{'cast_id': 1, 'character': 'Alan Parrish', '...   \n",
       "2  [{'cast_id': 2, 'character': 'Max Goldman', 'c...   \n",
       "3  [{'cast_id': 1, 'character': \"Savannah 'Vannah...   \n",
       "4  [{'cast_id': 1, 'character': 'George Banks', '...   \n",
       "\n",
       "                                                crew     id  \n",
       "0  [{'credit_id': '52fe4284c3a36847f8024f49', 'de...    862  \n",
       "1  [{'credit_id': '52fe44bfc3a36847f80a7cd1', 'de...   8844  \n",
       "2  [{'credit_id': '52fe466a9251416c75077a89', 'de...  15602  \n",
       "3  [{'credit_id': '52fe44779251416c91011acb', 'de...  31357  \n",
       "4  [{'credit_id': '52fe44959251416c75039ed7', 'de...  11862  "
      ]
     },
     "execution_count": 3,
     "metadata": {},
     "output_type": "execute_result"
    }
   ],
   "source": [
    "df.head()"
   ]
  },
  {
   "cell_type": "code",
   "execution_count": 4,
   "metadata": {
    "collapsed": false
   },
   "outputs": [
    {
     "data": {
      "text/plain": [
       "(45476, 3)"
      ]
     },
     "execution_count": 4,
     "metadata": {},
     "output_type": "execute_result"
    }
   ],
   "source": [
    "df.shape"
   ]
  },
  {
   "cell_type": "code",
   "execution_count": 5,
   "metadata": {
    "collapsed": false
   },
   "outputs": [
    {
     "data": {
      "text/plain": [
       "[{'cast_id': 1,\n",
       "  'character': 'Alan Parrish',\n",
       "  'credit_id': '52fe44bfc3a36847f80a7c73',\n",
       "  'gender': 2,\n",
       "  'id': 2157,\n",
       "  'name': 'Robin Williams',\n",
       "  'order': 0,\n",
       "  'profile_path': '/sojtJyIV3lkUeThD7A2oHNm8183.jpg'},\n",
       " {'cast_id': 8,\n",
       "  'character': 'Samuel Alan Parrish / Van Pelt',\n",
       "  'credit_id': '52fe44bfc3a36847f80a7c99',\n",
       "  'gender': 2,\n",
       "  'id': 8537,\n",
       "  'name': 'Jonathan Hyde',\n",
       "  'order': 1,\n",
       "  'profile_path': '/7il5D76vx6QVRVlpVvBPEC40MBi.jpg'},\n",
       " {'cast_id': 2,\n",
       "  'character': 'Judy Sheperd',\n",
       "  'credit_id': '52fe44bfc3a36847f80a7c77',\n",
       "  'gender': 1,\n",
       "  'id': 205,\n",
       "  'name': 'Kirsten Dunst',\n",
       "  'order': 2,\n",
       "  'profile_path': '/wBXvh6PJd0IUVNpvatPC1kzuHtm.jpg'},\n",
       " {'cast_id': 24,\n",
       "  'character': 'Peter Shepherd',\n",
       "  'credit_id': '52fe44c0c3a36847f80a7ce7',\n",
       "  'gender': 0,\n",
       "  'id': 145151,\n",
       "  'name': 'Bradley Pierce',\n",
       "  'order': 3,\n",
       "  'profile_path': '/j6iW0vVA23GQniAPSYI6mi4hiEW.jpg'},\n",
       " {'cast_id': 10,\n",
       "  'character': 'Sarah Whittle',\n",
       "  'credit_id': '52fe44bfc3a36847f80a7c9d',\n",
       "  'gender': 1,\n",
       "  'id': 5149,\n",
       "  'name': 'Bonnie Hunt',\n",
       "  'order': 4,\n",
       "  'profile_path': '/7spiVQwmr8siw5QCcvvdRG3c7Lf.jpg'},\n",
       " {'cast_id': 25,\n",
       "  'character': 'Nora Shepherd',\n",
       "  'credit_id': '52fe44c0c3a36847f80a7ceb',\n",
       "  'gender': 1,\n",
       "  'id': 10739,\n",
       "  'name': 'Bebe Neuwirth',\n",
       "  'order': 5,\n",
       "  'profile_path': '/xm58rpMRVDHS0IGttw1pTlqGwkN.jpg'},\n",
       " {'cast_id': 26,\n",
       "  'character': 'Carl Bentley',\n",
       "  'credit_id': '52fe44c0c3a36847f80a7cef',\n",
       "  'gender': 2,\n",
       "  'id': 58563,\n",
       "  'name': 'David Alan Grier',\n",
       "  'order': 6,\n",
       "  'profile_path': '/5tkt3qRZTco4sz604aTIarQ0m8W.jpg'},\n",
       " {'cast_id': 11,\n",
       "  'character': 'Carol Anne Parrish',\n",
       "  'credit_id': '52fe44bfc3a36847f80a7ca1',\n",
       "  'gender': 1,\n",
       "  'id': 1276,\n",
       "  'name': 'Patricia Clarkson',\n",
       "  'order': 7,\n",
       "  'profile_path': '/10ZSyaUqzUlKTd60HmeiGhlytZG.jpg'},\n",
       " {'cast_id': 14,\n",
       "  'character': 'Alan Parrish (young)',\n",
       "  'credit_id': '52fe44bfc3a36847f80a7cad',\n",
       "  'gender': 0,\n",
       "  'id': 46530,\n",
       "  'name': 'Adam Hann-Byrd',\n",
       "  'order': 8,\n",
       "  'profile_path': '/hEoqDqtMO91hYWD5iDrDesnLDlt.jpg'},\n",
       " {'cast_id': 13,\n",
       "  'character': 'Sarah Whittle (young)',\n",
       "  'credit_id': '52fe44bfc3a36847f80a7ca9',\n",
       "  'gender': 1,\n",
       "  'id': 56523,\n",
       "  'name': 'Laura Bell Bundy',\n",
       "  'order': 9,\n",
       "  'profile_path': '/8tAVDBRoZPjKfCbBDyh4iK9JNEp.jpg'},\n",
       " {'cast_id': 31,\n",
       "  'character': 'Exterminator',\n",
       "  'credit_id': '52fe44c0c3a36847f80a7cff',\n",
       "  'gender': 2,\n",
       "  'id': 51551,\n",
       "  'name': 'James Handy',\n",
       "  'order': 10,\n",
       "  'profile_path': '/vm0WQmuP8jEGgFTd3VCcJe7zpUi.jpg'},\n",
       " {'cast_id': 12,\n",
       "  'character': 'Mrs. Thomas the Realtor',\n",
       "  'credit_id': '52fe44bfc3a36847f80a7ca5',\n",
       "  'gender': 1,\n",
       "  'id': 56522,\n",
       "  'name': 'Gillian Barber',\n",
       "  'order': 11,\n",
       "  'profile_path': '/qoqPX15J5jh6Sy0A9JvvRJIuw64.jpg'},\n",
       " {'cast_id': 28,\n",
       "  'character': 'Benjamin',\n",
       "  'credit_id': '52fe44c0c3a36847f80a7cf3',\n",
       "  'gender': 2,\n",
       "  'id': 1000304,\n",
       "  'name': 'Brandon Obray',\n",
       "  'order': 12,\n",
       "  'profile_path': None},\n",
       " {'cast_id': 29,\n",
       "  'character': 'Caleb',\n",
       "  'credit_id': '52fe44c0c3a36847f80a7cf7',\n",
       "  'gender': 0,\n",
       "  'id': 188949,\n",
       "  'name': 'Cyrus Thiedeke',\n",
       "  'order': 13,\n",
       "  'profile_path': None},\n",
       " {'cast_id': 30,\n",
       "  'character': 'Billy Jessup',\n",
       "  'credit_id': '52fe44c0c3a36847f80a7cfb',\n",
       "  'gender': 0,\n",
       "  'id': 1076551,\n",
       "  'name': 'Gary Joseph Thorup',\n",
       "  'order': 14,\n",
       "  'profile_path': None},\n",
       " {'cast_id': 32,\n",
       "  'character': 'Cop',\n",
       "  'credit_id': '5588053fc3a36838530063f5',\n",
       "  'gender': 0,\n",
       "  'id': 1480246,\n",
       "  'name': 'Leonard Zola',\n",
       "  'order': 15,\n",
       "  'profile_path': None},\n",
       " {'cast_id': 33,\n",
       "  'character': 'Bum',\n",
       "  'credit_id': '55935687925141645a002097',\n",
       "  'gender': 2,\n",
       "  'id': 25024,\n",
       "  'name': 'Lloyd Berry',\n",
       "  'order': 16,\n",
       "  'profile_path': '/s7SVCOtvcuQ9wRQPZfUdahb5x88.jpg'},\n",
       " {'cast_id': 34,\n",
       "  'character': 'Jim Shepherd',\n",
       "  'credit_id': '559356d09251415df8002cb7',\n",
       "  'gender': 2,\n",
       "  'id': 27110,\n",
       "  'name': 'Malcolm Stewart',\n",
       "  'order': 17,\n",
       "  'profile_path': '/l2vgzkLR7GRr8ugjZCILA0OiliI.jpg'},\n",
       " {'cast_id': 35,\n",
       "  'character': 'Martha Shepherd',\n",
       "  'credit_id': '55935730925141645a0020ad',\n",
       "  'gender': 0,\n",
       "  'id': 53715,\n",
       "  'name': 'Annabel Kershaw',\n",
       "  'order': 18,\n",
       "  'profile_path': '/1VqbvAohBwFhETZtDe76JXQcxKm.jpg'},\n",
       " {'cast_id': 36,\n",
       "  'character': 'Gun Salesman',\n",
       "  'credit_id': '5593576992514167fd000610',\n",
       "  'gender': 2,\n",
       "  'id': 1379424,\n",
       "  'name': 'Darryl Henriques',\n",
       "  'order': 19,\n",
       "  'profile_path': '/7QMHooY9ewNQlE24WKAOdwW0evU.jpg'},\n",
       " {'cast_id': 37,\n",
       "  'character': 'Paramedic',\n",
       "  'credit_id': '559357ae92514152de002f42',\n",
       "  'gender': 0,\n",
       "  'id': 1235504,\n",
       "  'name': 'Robyn Driscoll',\n",
       "  'order': 20,\n",
       "  'profile_path': None},\n",
       " {'cast_id': 50,\n",
       "  'character': 'Paramedic',\n",
       "  'credit_id': '5657803b925141018f00a5dc',\n",
       "  'gender': 2,\n",
       "  'id': 25389,\n",
       "  'name': 'Peter Bryant',\n",
       "  'order': 21,\n",
       "  'profile_path': '/fkcx9Tnp25UC5HlI2eW3nGvumsZ.jpg'},\n",
       " {'cast_id': 39,\n",
       "  'character': 'Girl',\n",
       "  'credit_id': '559358e292514152de002f63',\n",
       "  'gender': 0,\n",
       "  'id': 1483449,\n",
       "  'name': 'Sarah Gilson',\n",
       "  'order': 22,\n",
       "  'profile_path': None},\n",
       " {'cast_id': 40,\n",
       "  'character': 'Girl',\n",
       "  'credit_id': '5593590d92514152db002df3',\n",
       "  'gender': 0,\n",
       "  'id': 1483450,\n",
       "  'name': 'Florica Vlad',\n",
       "  'order': 23,\n",
       "  'profile_path': None},\n",
       " {'cast_id': 41,\n",
       "  'character': 'Baker',\n",
       "  'credit_id': '55935946c3a36869d1001b4d',\n",
       "  'gender': 0,\n",
       "  'id': 1483451,\n",
       "  'name': 'June Lion',\n",
       "  'order': 24,\n",
       "  'profile_path': None},\n",
       " {'cast_id': 42,\n",
       "  'character': 'Pianist',\n",
       "  'credit_id': '5593597692514167fd000644',\n",
       "  'gender': 0,\n",
       "  'id': 1483452,\n",
       "  'name': 'Brenda Lockmuller',\n",
       "  'order': 25,\n",
       "  'profile_path': None}]"
      ]
     },
     "execution_count": 5,
     "metadata": {},
     "output_type": "execute_result"
    }
   ],
   "source": [
    "# example \n",
    "literal_eval(df['cast'][1])"
   ]
  },
  {
   "cell_type": "code",
   "execution_count": 6,
   "metadata": {
    "collapsed": false
   },
   "outputs": [],
   "source": [
    "# Extracting the names of the first 5 actors in each movie\n",
    "actors = []\n",
    "\n",
    "for index, row in df.iterrows():\n",
    "    five = []\n",
    "    for item in literal_eval(df['cast'][index])[0:5]:\n",
    "        five.append(item[\"name\"])\n",
    "    actors.append(five)"
   ]
  },
  {
   "cell_type": "code",
   "execution_count": 8,
   "metadata": {
    "collapsed": false
   },
   "outputs": [
    {
     "data": {
      "text/plain": [
       "[['Tom Hanks', 'Tim Allen', 'Don Rickles', 'Jim Varney', 'Wallace Shawn'],\n",
       " ['Robin Williams',\n",
       "  'Jonathan Hyde',\n",
       "  'Kirsten Dunst',\n",
       "  'Bradley Pierce',\n",
       "  'Bonnie Hunt'],\n",
       " ['Walter Matthau',\n",
       "  'Jack Lemmon',\n",
       "  'Ann-Margret',\n",
       "  'Sophia Loren',\n",
       "  'Daryl Hannah'],\n",
       " ['Whitney Houston',\n",
       "  'Angela Bassett',\n",
       "  'Loretta Devine',\n",
       "  'Lela Rochon',\n",
       "  'Gregory Hines'],\n",
       " ['Steve Martin',\n",
       "  'Diane Keaton',\n",
       "  'Martin Short',\n",
       "  'Kimberly Williams-Paisley',\n",
       "  'George Newbern']]"
      ]
     },
     "execution_count": 8,
     "metadata": {},
     "output_type": "execute_result"
    }
   ],
   "source": [
    "actors[0:5]"
   ]
  },
  {
   "cell_type": "code",
   "execution_count": 9,
   "metadata": {
    "collapsed": false
   },
   "outputs": [],
   "source": [
    "len(actors)==len(df)\n",
    "\n",
    "df['first5actors'] = actors"
   ]
  },
  {
   "cell_type": "code",
   "execution_count": 10,
   "metadata": {
    "collapsed": false
   },
   "outputs": [
    {
     "data": {
      "text/html": [
       "<div>\n",
       "<table border=\"1\" class=\"dataframe\">\n",
       "  <thead>\n",
       "    <tr style=\"text-align: right;\">\n",
       "      <th></th>\n",
       "      <th>cast</th>\n",
       "      <th>crew</th>\n",
       "      <th>id</th>\n",
       "      <th>first5actors</th>\n",
       "    </tr>\n",
       "  </thead>\n",
       "  <tbody>\n",
       "    <tr>\n",
       "      <th>0</th>\n",
       "      <td>[{'cast_id': 14, 'character': 'Woody (voice)',...</td>\n",
       "      <td>[{'credit_id': '52fe4284c3a36847f8024f49', 'de...</td>\n",
       "      <td>862</td>\n",
       "      <td>[Tom Hanks, Tim Allen, Don Rickles, Jim Varney...</td>\n",
       "    </tr>\n",
       "    <tr>\n",
       "      <th>1</th>\n",
       "      <td>[{'cast_id': 1, 'character': 'Alan Parrish', '...</td>\n",
       "      <td>[{'credit_id': '52fe44bfc3a36847f80a7cd1', 'de...</td>\n",
       "      <td>8844</td>\n",
       "      <td>[Robin Williams, Jonathan Hyde, Kirsten Dunst,...</td>\n",
       "    </tr>\n",
       "    <tr>\n",
       "      <th>2</th>\n",
       "      <td>[{'cast_id': 2, 'character': 'Max Goldman', 'c...</td>\n",
       "      <td>[{'credit_id': '52fe466a9251416c75077a89', 'de...</td>\n",
       "      <td>15602</td>\n",
       "      <td>[Walter Matthau, Jack Lemmon, Ann-Margret, Sop...</td>\n",
       "    </tr>\n",
       "    <tr>\n",
       "      <th>3</th>\n",
       "      <td>[{'cast_id': 1, 'character': \"Savannah 'Vannah...</td>\n",
       "      <td>[{'credit_id': '52fe44779251416c91011acb', 'de...</td>\n",
       "      <td>31357</td>\n",
       "      <td>[Whitney Houston, Angela Bassett, Loretta Devi...</td>\n",
       "    </tr>\n",
       "    <tr>\n",
       "      <th>4</th>\n",
       "      <td>[{'cast_id': 1, 'character': 'George Banks', '...</td>\n",
       "      <td>[{'credit_id': '52fe44959251416c75039ed7', 'de...</td>\n",
       "      <td>11862</td>\n",
       "      <td>[Steve Martin, Diane Keaton, Martin Short, Kim...</td>\n",
       "    </tr>\n",
       "  </tbody>\n",
       "</table>\n",
       "</div>"
      ],
      "text/plain": [
       "                                                cast  \\\n",
       "0  [{'cast_id': 14, 'character': 'Woody (voice)',...   \n",
       "1  [{'cast_id': 1, 'character': 'Alan Parrish', '...   \n",
       "2  [{'cast_id': 2, 'character': 'Max Goldman', 'c...   \n",
       "3  [{'cast_id': 1, 'character': \"Savannah 'Vannah...   \n",
       "4  [{'cast_id': 1, 'character': 'George Banks', '...   \n",
       "\n",
       "                                                crew     id  \\\n",
       "0  [{'credit_id': '52fe4284c3a36847f8024f49', 'de...    862   \n",
       "1  [{'credit_id': '52fe44bfc3a36847f80a7cd1', 'de...   8844   \n",
       "2  [{'credit_id': '52fe466a9251416c75077a89', 'de...  15602   \n",
       "3  [{'credit_id': '52fe44779251416c91011acb', 'de...  31357   \n",
       "4  [{'credit_id': '52fe44959251416c75039ed7', 'de...  11862   \n",
       "\n",
       "                                        first5actors  \n",
       "0  [Tom Hanks, Tim Allen, Don Rickles, Jim Varney...  \n",
       "1  [Robin Williams, Jonathan Hyde, Kirsten Dunst,...  \n",
       "2  [Walter Matthau, Jack Lemmon, Ann-Margret, Sop...  \n",
       "3  [Whitney Houston, Angela Bassett, Loretta Devi...  \n",
       "4  [Steve Martin, Diane Keaton, Martin Short, Kim...  "
      ]
     },
     "execution_count": 10,
     "metadata": {},
     "output_type": "execute_result"
    }
   ],
   "source": [
    "df.head()"
   ]
  },
  {
   "cell_type": "code",
   "execution_count": 11,
   "metadata": {
    "collapsed": false
   },
   "outputs": [
    {
     "name": "stderr",
     "output_type": "stream",
     "text": [
      "/Users/ishitagopal/anaconda/lib/python3.5/site-packages/IPython/core/interactiveshell.py:2723: DtypeWarning: Columns (10) have mixed types. Specify dtype option on import or set low_memory=False.\n",
      "  interactivity=interactivity, compiler=compiler, result=result)\n"
     ]
    }
   ],
   "source": [
    "# Attach films year of release \n",
    "df2 = pd.read_csv(\"/Users/ishitagopal/Box/the-movies-dataset/movies_metadata.csv\")"
   ]
  },
  {
   "cell_type": "code",
   "execution_count": 12,
   "metadata": {
    "collapsed": false
   },
   "outputs": [
    {
     "data": {
      "text/html": [
       "<div>\n",
       "<table border=\"1\" class=\"dataframe\">\n",
       "  <thead>\n",
       "    <tr style=\"text-align: right;\">\n",
       "      <th></th>\n",
       "      <th>adult</th>\n",
       "      <th>belongs_to_collection</th>\n",
       "      <th>budget</th>\n",
       "      <th>genres</th>\n",
       "      <th>homepage</th>\n",
       "      <th>id</th>\n",
       "      <th>imdb_id</th>\n",
       "      <th>original_language</th>\n",
       "      <th>original_title</th>\n",
       "      <th>overview</th>\n",
       "      <th>...</th>\n",
       "      <th>release_date</th>\n",
       "      <th>revenue</th>\n",
       "      <th>runtime</th>\n",
       "      <th>spoken_languages</th>\n",
       "      <th>status</th>\n",
       "      <th>tagline</th>\n",
       "      <th>title</th>\n",
       "      <th>video</th>\n",
       "      <th>vote_average</th>\n",
       "      <th>vote_count</th>\n",
       "    </tr>\n",
       "  </thead>\n",
       "  <tbody>\n",
       "    <tr>\n",
       "      <th>0</th>\n",
       "      <td>False</td>\n",
       "      <td>{'id': 10194, 'name': 'Toy Story Collection', ...</td>\n",
       "      <td>30000000</td>\n",
       "      <td>[{'id': 16, 'name': 'Animation'}, {'id': 35, '...</td>\n",
       "      <td>http://toystory.disney.com/toy-story</td>\n",
       "      <td>862</td>\n",
       "      <td>tt0114709</td>\n",
       "      <td>en</td>\n",
       "      <td>Toy Story</td>\n",
       "      <td>Led by Woody, Andy's toys live happily in his ...</td>\n",
       "      <td>...</td>\n",
       "      <td>1995-10-30</td>\n",
       "      <td>373554033.0</td>\n",
       "      <td>81.0</td>\n",
       "      <td>[{'iso_639_1': 'en', 'name': 'English'}]</td>\n",
       "      <td>Released</td>\n",
       "      <td>NaN</td>\n",
       "      <td>Toy Story</td>\n",
       "      <td>False</td>\n",
       "      <td>7.7</td>\n",
       "      <td>5415.0</td>\n",
       "    </tr>\n",
       "    <tr>\n",
       "      <th>1</th>\n",
       "      <td>False</td>\n",
       "      <td>NaN</td>\n",
       "      <td>65000000</td>\n",
       "      <td>[{'id': 12, 'name': 'Adventure'}, {'id': 14, '...</td>\n",
       "      <td>NaN</td>\n",
       "      <td>8844</td>\n",
       "      <td>tt0113497</td>\n",
       "      <td>en</td>\n",
       "      <td>Jumanji</td>\n",
       "      <td>When siblings Judy and Peter discover an encha...</td>\n",
       "      <td>...</td>\n",
       "      <td>1995-12-15</td>\n",
       "      <td>262797249.0</td>\n",
       "      <td>104.0</td>\n",
       "      <td>[{'iso_639_1': 'en', 'name': 'English'}, {'iso...</td>\n",
       "      <td>Released</td>\n",
       "      <td>Roll the dice and unleash the excitement!</td>\n",
       "      <td>Jumanji</td>\n",
       "      <td>False</td>\n",
       "      <td>6.9</td>\n",
       "      <td>2413.0</td>\n",
       "    </tr>\n",
       "    <tr>\n",
       "      <th>2</th>\n",
       "      <td>False</td>\n",
       "      <td>{'id': 119050, 'name': 'Grumpy Old Men Collect...</td>\n",
       "      <td>0</td>\n",
       "      <td>[{'id': 10749, 'name': 'Romance'}, {'id': 35, ...</td>\n",
       "      <td>NaN</td>\n",
       "      <td>15602</td>\n",
       "      <td>tt0113228</td>\n",
       "      <td>en</td>\n",
       "      <td>Grumpier Old Men</td>\n",
       "      <td>A family wedding reignites the ancient feud be...</td>\n",
       "      <td>...</td>\n",
       "      <td>1995-12-22</td>\n",
       "      <td>0.0</td>\n",
       "      <td>101.0</td>\n",
       "      <td>[{'iso_639_1': 'en', 'name': 'English'}]</td>\n",
       "      <td>Released</td>\n",
       "      <td>Still Yelling. Still Fighting. Still Ready for...</td>\n",
       "      <td>Grumpier Old Men</td>\n",
       "      <td>False</td>\n",
       "      <td>6.5</td>\n",
       "      <td>92.0</td>\n",
       "    </tr>\n",
       "    <tr>\n",
       "      <th>3</th>\n",
       "      <td>False</td>\n",
       "      <td>NaN</td>\n",
       "      <td>16000000</td>\n",
       "      <td>[{'id': 35, 'name': 'Comedy'}, {'id': 18, 'nam...</td>\n",
       "      <td>NaN</td>\n",
       "      <td>31357</td>\n",
       "      <td>tt0114885</td>\n",
       "      <td>en</td>\n",
       "      <td>Waiting to Exhale</td>\n",
       "      <td>Cheated on, mistreated and stepped on, the wom...</td>\n",
       "      <td>...</td>\n",
       "      <td>1995-12-22</td>\n",
       "      <td>81452156.0</td>\n",
       "      <td>127.0</td>\n",
       "      <td>[{'iso_639_1': 'en', 'name': 'English'}]</td>\n",
       "      <td>Released</td>\n",
       "      <td>Friends are the people who let you be yourself...</td>\n",
       "      <td>Waiting to Exhale</td>\n",
       "      <td>False</td>\n",
       "      <td>6.1</td>\n",
       "      <td>34.0</td>\n",
       "    </tr>\n",
       "    <tr>\n",
       "      <th>4</th>\n",
       "      <td>False</td>\n",
       "      <td>{'id': 96871, 'name': 'Father of the Bride Col...</td>\n",
       "      <td>0</td>\n",
       "      <td>[{'id': 35, 'name': 'Comedy'}]</td>\n",
       "      <td>NaN</td>\n",
       "      <td>11862</td>\n",
       "      <td>tt0113041</td>\n",
       "      <td>en</td>\n",
       "      <td>Father of the Bride Part II</td>\n",
       "      <td>Just when George Banks has recovered from his ...</td>\n",
       "      <td>...</td>\n",
       "      <td>1995-02-10</td>\n",
       "      <td>76578911.0</td>\n",
       "      <td>106.0</td>\n",
       "      <td>[{'iso_639_1': 'en', 'name': 'English'}]</td>\n",
       "      <td>Released</td>\n",
       "      <td>Just When His World Is Back To Normal... He's ...</td>\n",
       "      <td>Father of the Bride Part II</td>\n",
       "      <td>False</td>\n",
       "      <td>5.7</td>\n",
       "      <td>173.0</td>\n",
       "    </tr>\n",
       "  </tbody>\n",
       "</table>\n",
       "<p>5 rows × 24 columns</p>\n",
       "</div>"
      ],
      "text/plain": [
       "   adult                              belongs_to_collection    budget  \\\n",
       "0  False  {'id': 10194, 'name': 'Toy Story Collection', ...  30000000   \n",
       "1  False                                                NaN  65000000   \n",
       "2  False  {'id': 119050, 'name': 'Grumpy Old Men Collect...         0   \n",
       "3  False                                                NaN  16000000   \n",
       "4  False  {'id': 96871, 'name': 'Father of the Bride Col...         0   \n",
       "\n",
       "                                              genres  \\\n",
       "0  [{'id': 16, 'name': 'Animation'}, {'id': 35, '...   \n",
       "1  [{'id': 12, 'name': 'Adventure'}, {'id': 14, '...   \n",
       "2  [{'id': 10749, 'name': 'Romance'}, {'id': 35, ...   \n",
       "3  [{'id': 35, 'name': 'Comedy'}, {'id': 18, 'nam...   \n",
       "4                     [{'id': 35, 'name': 'Comedy'}]   \n",
       "\n",
       "                               homepage     id    imdb_id original_language  \\\n",
       "0  http://toystory.disney.com/toy-story    862  tt0114709                en   \n",
       "1                                   NaN   8844  tt0113497                en   \n",
       "2                                   NaN  15602  tt0113228                en   \n",
       "3                                   NaN  31357  tt0114885                en   \n",
       "4                                   NaN  11862  tt0113041                en   \n",
       "\n",
       "                original_title  \\\n",
       "0                    Toy Story   \n",
       "1                      Jumanji   \n",
       "2             Grumpier Old Men   \n",
       "3            Waiting to Exhale   \n",
       "4  Father of the Bride Part II   \n",
       "\n",
       "                                            overview    ...     release_date  \\\n",
       "0  Led by Woody, Andy's toys live happily in his ...    ...       1995-10-30   \n",
       "1  When siblings Judy and Peter discover an encha...    ...       1995-12-15   \n",
       "2  A family wedding reignites the ancient feud be...    ...       1995-12-22   \n",
       "3  Cheated on, mistreated and stepped on, the wom...    ...       1995-12-22   \n",
       "4  Just when George Banks has recovered from his ...    ...       1995-02-10   \n",
       "\n",
       "       revenue runtime                                   spoken_languages  \\\n",
       "0  373554033.0    81.0           [{'iso_639_1': 'en', 'name': 'English'}]   \n",
       "1  262797249.0   104.0  [{'iso_639_1': 'en', 'name': 'English'}, {'iso...   \n",
       "2          0.0   101.0           [{'iso_639_1': 'en', 'name': 'English'}]   \n",
       "3   81452156.0   127.0           [{'iso_639_1': 'en', 'name': 'English'}]   \n",
       "4   76578911.0   106.0           [{'iso_639_1': 'en', 'name': 'English'}]   \n",
       "\n",
       "     status                                            tagline  \\\n",
       "0  Released                                                NaN   \n",
       "1  Released          Roll the dice and unleash the excitement!   \n",
       "2  Released  Still Yelling. Still Fighting. Still Ready for...   \n",
       "3  Released  Friends are the people who let you be yourself...   \n",
       "4  Released  Just When His World Is Back To Normal... He's ...   \n",
       "\n",
       "                         title  video vote_average vote_count  \n",
       "0                    Toy Story  False          7.7     5415.0  \n",
       "1                      Jumanji  False          6.9     2413.0  \n",
       "2             Grumpier Old Men  False          6.5       92.0  \n",
       "3            Waiting to Exhale  False          6.1       34.0  \n",
       "4  Father of the Bride Part II  False          5.7      173.0  \n",
       "\n",
       "[5 rows x 24 columns]"
      ]
     },
     "execution_count": 12,
     "metadata": {},
     "output_type": "execute_result"
    }
   ],
   "source": [
    "df2.head()"
   ]
  },
  {
   "cell_type": "code",
   "execution_count": 13,
   "metadata": {
    "collapsed": false
   },
   "outputs": [],
   "source": [
    "# data types for id column were different -- wasnt merging -- converted both to str because int was giving errors\n",
    "df['id'] = df['id'].astype('str')\n",
    "df2['id'] = df2['id'].astype('str')"
   ]
  },
  {
   "cell_type": "code",
   "execution_count": 14,
   "metadata": {
    "collapsed": false
   },
   "outputs": [],
   "source": [
    "# Merging df and df2 on the column id \n",
    "combined = df[['id','first5actors']].merge(df2[['id','imdb_id','release_date']],on='id')\n"
   ]
  },
  {
   "cell_type": "code",
   "execution_count": 15,
   "metadata": {
    "collapsed": false
   },
   "outputs": [
    {
     "data": {
      "text/plain": [
       "(45538, 4)"
      ]
     },
     "execution_count": 15,
     "metadata": {},
     "output_type": "execute_result"
    }
   ],
   "source": [
    "combined.shape\n"
   ]
  },
  {
   "cell_type": "code",
   "execution_count": 16,
   "metadata": {
    "collapsed": false
   },
   "outputs": [
    {
     "data": {
      "text/html": [
       "<div>\n",
       "<table border=\"1\" class=\"dataframe\">\n",
       "  <thead>\n",
       "    <tr style=\"text-align: right;\">\n",
       "      <th></th>\n",
       "      <th>id</th>\n",
       "      <th>first5actors</th>\n",
       "      <th>imdb_id</th>\n",
       "      <th>release_date</th>\n",
       "    </tr>\n",
       "  </thead>\n",
       "  <tbody>\n",
       "    <tr>\n",
       "      <th>0</th>\n",
       "      <td>862</td>\n",
       "      <td>[Tom Hanks, Tim Allen, Don Rickles, Jim Varney...</td>\n",
       "      <td>tt0114709</td>\n",
       "      <td>1995-10-30</td>\n",
       "    </tr>\n",
       "    <tr>\n",
       "      <th>1</th>\n",
       "      <td>8844</td>\n",
       "      <td>[Robin Williams, Jonathan Hyde, Kirsten Dunst,...</td>\n",
       "      <td>tt0113497</td>\n",
       "      <td>1995-12-15</td>\n",
       "    </tr>\n",
       "    <tr>\n",
       "      <th>2</th>\n",
       "      <td>15602</td>\n",
       "      <td>[Walter Matthau, Jack Lemmon, Ann-Margret, Sop...</td>\n",
       "      <td>tt0113228</td>\n",
       "      <td>1995-12-22</td>\n",
       "    </tr>\n",
       "    <tr>\n",
       "      <th>3</th>\n",
       "      <td>31357</td>\n",
       "      <td>[Whitney Houston, Angela Bassett, Loretta Devi...</td>\n",
       "      <td>tt0114885</td>\n",
       "      <td>1995-12-22</td>\n",
       "    </tr>\n",
       "    <tr>\n",
       "      <th>4</th>\n",
       "      <td>11862</td>\n",
       "      <td>[Steve Martin, Diane Keaton, Martin Short, Kim...</td>\n",
       "      <td>tt0113041</td>\n",
       "      <td>1995-02-10</td>\n",
       "    </tr>\n",
       "  </tbody>\n",
       "</table>\n",
       "</div>"
      ],
      "text/plain": [
       "      id                                       first5actors    imdb_id  \\\n",
       "0    862  [Tom Hanks, Tim Allen, Don Rickles, Jim Varney...  tt0114709   \n",
       "1   8844  [Robin Williams, Jonathan Hyde, Kirsten Dunst,...  tt0113497   \n",
       "2  15602  [Walter Matthau, Jack Lemmon, Ann-Margret, Sop...  tt0113228   \n",
       "3  31357  [Whitney Houston, Angela Bassett, Loretta Devi...  tt0114885   \n",
       "4  11862  [Steve Martin, Diane Keaton, Martin Short, Kim...  tt0113041   \n",
       "\n",
       "  release_date  \n",
       "0   1995-10-30  \n",
       "1   1995-12-15  \n",
       "2   1995-12-22  \n",
       "3   1995-12-22  \n",
       "4   1995-02-10  "
      ]
     },
     "execution_count": 16,
     "metadata": {},
     "output_type": "execute_result"
    }
   ],
   "source": [
    "combined.head()"
   ]
  },
  {
   "cell_type": "code",
   "execution_count": 17,
   "metadata": {
    "collapsed": false
   },
   "outputs": [],
   "source": [
    "# read in imdb dataset with birth years\n",
    "tsv_file=\"/Users/ishitagopal/Box/the-movies-dataset/name.basics.tsv\"\n",
    "imdb_csv=pd.read_table(tsv_file,sep='\\t')\n",
    "\n"
   ]
  },
  {
   "cell_type": "code",
   "execution_count": 18,
   "metadata": {
    "collapsed": false
   },
   "outputs": [
    {
     "data": {
      "text/html": [
       "<div>\n",
       "<table border=\"1\" class=\"dataframe\">\n",
       "  <thead>\n",
       "    <tr style=\"text-align: right;\">\n",
       "      <th></th>\n",
       "      <th>nconst</th>\n",
       "      <th>primaryName</th>\n",
       "      <th>birthYear</th>\n",
       "      <th>deathYear</th>\n",
       "      <th>primaryProfession</th>\n",
       "      <th>knownForTitles</th>\n",
       "    </tr>\n",
       "  </thead>\n",
       "  <tbody>\n",
       "    <tr>\n",
       "      <th>0</th>\n",
       "      <td>nm0000001</td>\n",
       "      <td>Fred Astaire</td>\n",
       "      <td>1899</td>\n",
       "      <td>1987</td>\n",
       "      <td>soundtrack,actor,miscellaneous</td>\n",
       "      <td>tt0053137,tt0043044,tt0050419,tt0072308</td>\n",
       "    </tr>\n",
       "    <tr>\n",
       "      <th>1</th>\n",
       "      <td>nm0000002</td>\n",
       "      <td>Lauren Bacall</td>\n",
       "      <td>1924</td>\n",
       "      <td>2014</td>\n",
       "      <td>actress,soundtrack</td>\n",
       "      <td>tt0037382,tt0071877,tt0038355,tt0117057</td>\n",
       "    </tr>\n",
       "    <tr>\n",
       "      <th>2</th>\n",
       "      <td>nm0000003</td>\n",
       "      <td>Brigitte Bardot</td>\n",
       "      <td>1934</td>\n",
       "      <td>\\N</td>\n",
       "      <td>actress,soundtrack,producer</td>\n",
       "      <td>tt0057345,tt0054452,tt0059956,tt0049189</td>\n",
       "    </tr>\n",
       "    <tr>\n",
       "      <th>3</th>\n",
       "      <td>nm0000004</td>\n",
       "      <td>John Belushi</td>\n",
       "      <td>1949</td>\n",
       "      <td>1982</td>\n",
       "      <td>actor,writer,soundtrack</td>\n",
       "      <td>tt0072562,tt0077975,tt0078723,tt0080455</td>\n",
       "    </tr>\n",
       "    <tr>\n",
       "      <th>4</th>\n",
       "      <td>nm0000005</td>\n",
       "      <td>Ingmar Bergman</td>\n",
       "      <td>1918</td>\n",
       "      <td>2007</td>\n",
       "      <td>writer,director,actor</td>\n",
       "      <td>tt0083922,tt0050986,tt0069467,tt0050976</td>\n",
       "    </tr>\n",
       "  </tbody>\n",
       "</table>\n",
       "</div>"
      ],
      "text/plain": [
       "      nconst      primaryName birthYear deathYear  \\\n",
       "0  nm0000001     Fred Astaire      1899      1987   \n",
       "1  nm0000002    Lauren Bacall      1924      2014   \n",
       "2  nm0000003  Brigitte Bardot      1934        \\N   \n",
       "3  nm0000004     John Belushi      1949      1982   \n",
       "4  nm0000005   Ingmar Bergman      1918      2007   \n",
       "\n",
       "                primaryProfession                           knownForTitles  \n",
       "0  soundtrack,actor,miscellaneous  tt0053137,tt0043044,tt0050419,tt0072308  \n",
       "1              actress,soundtrack  tt0037382,tt0071877,tt0038355,tt0117057  \n",
       "2     actress,soundtrack,producer  tt0057345,tt0054452,tt0059956,tt0049189  \n",
       "3         actor,writer,soundtrack  tt0072562,tt0077975,tt0078723,tt0080455  \n",
       "4           writer,director,actor  tt0083922,tt0050986,tt0069467,tt0050976  "
      ]
     },
     "execution_count": 18,
     "metadata": {},
     "output_type": "execute_result"
    }
   ],
   "source": [
    "imdb_csv.head()"
   ]
  },
  {
   "cell_type": "code",
   "execution_count": 19,
   "metadata": {
    "collapsed": false
   },
   "outputs": [],
   "source": [
    "# Create two lists -- name of actor -- corresponding birth yr\n",
    "actor_names = imdb_csv['primaryName'].tolist()\n",
    "actor_birth_yrs = imdb_csv['birthYear'].tolist()"
   ]
  },
  {
   "cell_type": "code",
   "execution_count": 20,
   "metadata": {
    "collapsed": false
   },
   "outputs": [
    {
     "name": "stdout",
     "output_type": "stream",
     "text": [
      "157\n",
      "\n"
     ]
    }
   ],
   "source": [
    "# example \n",
    "name = \"Tom Hanks\"\n",
    "if name in actor_names:\n",
    "    print(actor_names.index(name))\n",
    "    print()"
   ]
  },
  {
   "cell_type": "code",
   "execution_count": 21,
   "metadata": {
    "collapsed": false
   },
   "outputs": [
    {
     "data": {
      "text/plain": [
       "['Tom Hanks', 'Tim Allen', 'Don Rickles', 'Jim Varney', 'Wallace Shawn']"
      ]
     },
     "execution_count": 21,
     "metadata": {},
     "output_type": "execute_result"
    }
   ],
   "source": [
    "combined[\"first5actors\"][0]"
   ]
  },
  {
   "cell_type": "code",
   "execution_count": null,
   "metadata": {
    "collapsed": false
   },
   "outputs": [],
   "source": [
    "combined_birthyr5 = []\n",
    "\n",
    "for index, row in combined.iterrows():\n",
    "    birthyr5 = []\n",
    "    for name in row['first5actors']:\n",
    "        if name in actor_names:\n",
    "            birthyr5.append(actor_birth_yrs[actor_names.index(name)])\n",
    "    combined_birthyr5.append(birthyr5)\n",
    "        \n",
    "    "
   ]
  },
  {
   "cell_type": "code",
   "execution_count": null,
   "metadata": {
    "collapsed": false
   },
   "outputs": [],
   "source": [
    "combined_birthyr5.head()"
   ]
  },
  {
   "cell_type": "code",
   "execution_count": null,
   "metadata": {
    "collapsed": true
   },
   "outputs": [],
   "source": []
  },
  {
   "cell_type": "code",
   "execution_count": null,
   "metadata": {
    "collapsed": true
   },
   "outputs": [],
   "source": []
  }
 ],
 "metadata": {
  "kernelspec": {
   "display_name": "Python 3",
   "language": "python",
   "name": "python3"
  },
  "language_info": {
   "codemirror_mode": {
    "name": "ipython",
    "version": 3
   },
   "file_extension": ".py",
   "mimetype": "text/x-python",
   "name": "python",
   "nbconvert_exporter": "python",
   "pygments_lexer": "ipython3",
   "version": "3.5.5"
  }
 },
 "nbformat": 4,
 "nbformat_minor": 0
}
