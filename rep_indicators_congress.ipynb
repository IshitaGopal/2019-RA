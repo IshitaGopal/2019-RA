{
 "cells": [
  {
   "cell_type": "code",
   "execution_count": 168,
   "metadata": {
    "collapsed": true
   },
   "outputs": [],
   "source": [
    "import pandas as pd\n",
    "import os\n",
    "import requests\n",
    "import json\n",
    "from datetime import datetime"
   ]
  },
  {
   "cell_type": "code",
   "execution_count": 169,
   "metadata": {
    "collapsed": true
   },
   "outputs": [],
   "source": [
    "# force Pandas to not truncate the dataframe when printing \n",
    "pd.set_option('display.max_columns', 50)\n",
    "pd.set_option('display.max_rows', 100)"
   ]
  },
  {
   "cell_type": "code",
   "execution_count": 170,
   "metadata": {
    "collapsed": false
   },
   "outputs": [
    {
     "data": {
      "text/plain": [
       "True"
      ]
     },
     "execution_count": 170,
     "metadata": {},
     "output_type": "execute_result"
    }
   ],
   "source": [
    "# store json from the url\n",
    "\n",
    "# current \n",
    "json_url_c = \"https://theunitedstates.io/congress-legislators/legislators-current.json\"\n",
    "r_c = requests.get(json_url_c)\n",
    "json_response_c = r_c.json()\n",
    "\n",
    "# historical\n",
    "json_url_h = \"https://theunitedstates.io/congress-legislators/legislators-historical.json\"\n",
    "r_h = requests.get(json_url_h)\n",
    "json_response_h = r_h.json()\n",
    "\n",
    "# combined \n",
    "\n",
    "json_response = json_response_c+json_response_h\n",
    "\n",
    "#check\n",
    "\n",
    "len(json_response) == len(json_response_c)+ len(json_response_h)\n"
   ]
  },
  {
   "cell_type": "code",
   "execution_count": 171,
   "metadata": {
    "collapsed": false
   },
   "outputs": [
    {
     "data": {
      "text/plain": [
       "{'bio': {'birthday': '1950-05-20', 'gender': 'M'},\n",
       " 'id': {'ballotpedia': 'Chris Collins',\n",
       "  'bioguide': 'C001092',\n",
       "  'cspan': 94144,\n",
       "  'fec': ['H8NY29032'],\n",
       "  'google_entity_id': 'kg:/m/03cv81x',\n",
       "  'govtrack': 412563,\n",
       "  'icpsr': 21345,\n",
       "  'maplight': 1787,\n",
       "  'opensecrets': 'N00001285',\n",
       "  'thomas': '02151',\n",
       "  'votesmart': 139770,\n",
       "  'wikidata': 'Q5106218',\n",
       "  'wikipedia': 'Chris Collins (American politician)'},\n",
       " 'name': {'first': 'Chris',\n",
       "  'last': 'Collins',\n",
       "  'official_full': 'Chris Collins'},\n",
       " 'terms': [{'address': '1117 Longworth HOB; Washington DC 20515-3227',\n",
       "   'contact_form': 'https://chriscollins.house.gov/contact/email-me',\n",
       "   'district': 27,\n",
       "   'end': '2015-01-03',\n",
       "   'office': '1117 Longworth House Office Building',\n",
       "   'party': 'Republican',\n",
       "   'phone': '202-225-5265',\n",
       "   'rss_url': 'http://chriscollins.house.gov/rss.xml',\n",
       "   'start': '2013-01-03',\n",
       "   'state': 'NY',\n",
       "   'type': 'rep',\n",
       "   'url': 'http://chriscollins.house.gov'},\n",
       "  {'address': '1117 Longworth HOB; Washington DC 20515-3227',\n",
       "   'contact_form': 'https://chriscollins.house.gov/contact/email-me',\n",
       "   'district': 27,\n",
       "   'end': '2017-01-03',\n",
       "   'fax': '202-225-5910',\n",
       "   'office': '1117 Longworth House Office Building',\n",
       "   'party': 'Republican',\n",
       "   'phone': '202-225-5265',\n",
       "   'rss_url': 'http://chriscollins.house.gov/rss.xml',\n",
       "   'start': '2015-01-06',\n",
       "   'state': 'NY',\n",
       "   'type': 'rep',\n",
       "   'url': 'http://chriscollins.house.gov'},\n",
       "  {'address': '1117 Longworth House Office Building; Washington DC 20515-3227',\n",
       "   'district': 27,\n",
       "   'end': '2019-01-03',\n",
       "   'fax': '202-225-5910',\n",
       "   'office': '1117 Longworth House Office Building',\n",
       "   'party': 'Republican',\n",
       "   'phone': '202-225-5265',\n",
       "   'rss_url': 'http://chriscollins.house.gov/rss.xml',\n",
       "   'start': '2017-01-03',\n",
       "   'state': 'NY',\n",
       "   'type': 'rep',\n",
       "   'url': 'https://chriscollins.house.gov'},\n",
       "  {'address': '2243 Rayburn House Office Building; Washington DC 20515-3227',\n",
       "   'district': 27,\n",
       "   'end': '2019-10-01',\n",
       "   'office': '2243 Rayburn House Office Building',\n",
       "   'party': 'Republican',\n",
       "   'phone': '202-225-5265',\n",
       "   'rss_url': 'http://chriscollins.house.gov/rss.xml',\n",
       "   'start': '2019-01-03',\n",
       "   'state': 'NY',\n",
       "   'type': 'rep',\n",
       "   'url': 'https://chriscollins.house.gov'}]}"
      ]
     },
     "execution_count": 171,
     "metadata": {},
     "output_type": "execute_result"
    }
   ],
   "source": [
    "# example item in the jason\n",
    "example = json_response[-1]\n",
    "example"
   ]
  },
  {
   "cell_type": "code",
   "execution_count": 172,
   "metadata": {
    "collapsed": false
   },
   "outputs": [],
   "source": [
    "# Create a list of lists comprising indicators for every other year \n",
    "\n",
    "indicators = []\n",
    "for legislator in json_response:              # iterate through each legislator stored in the Json response\n",
    "    name_first = legislator[\"name\"][\"first\"]  # store the name \n",
    "    name_middle = legislator[\"name\"].get(\"middle\",\"\")\n",
    "    name_last = legislator[\"name\"][\"last\"]\n",
    "    \n",
    "    birthday = legislator[\"bio\"].get(\"birthday\",\"Missing\") #store the birthday\n",
    "    \n",
    "    term_list = legislator[\"terms\"]         # store all the terms of the legislator\n",
    "   \n",
    "    dates = []\n",
    "    for term in term_list:                  # for each term of the legislator\n",
    "        start_date = datetime.strptime(term['start'], '%Y-%m-%d')          \n",
    "        \n",
    "        if (term['type']=='rep' and start_date.year > 1933 and start_date.month==1):  # check 2 conditions: year in the start date > 1933 and month starts in Jan\n",
    "            dates.append(start_date.year)   # if true: save the years of the start date in a list \n",
    "    \n",
    "    d=[]                                    # stores indicators\n",
    "    for year in range(1935,2021,2):         # for each year from 1935 till 2019\n",
    "        if year in dates:                   # check if that year appears in the list of start years made above \n",
    "            d.append(1)                     # assign 1 if true\n",
    "        else:\n",
    "            d.append(0)                     # 0 if false\n",
    "    d.insert(0, name_first+' '+name_middle +' '+name_last) \n",
    "    d.insert(1,birthday)\n",
    "    indicators.append(d)\n",
    "   \n"
   ]
  },
  {
   "cell_type": "code",
   "execution_count": 173,
   "metadata": {
    "collapsed": false
   },
   "outputs": [],
   "source": [
    "# create column names \n",
    "columns = list(range(1935, 2021,2))\n",
    "columns.insert(0, 'Name')\n",
    "columns.insert(1, 'Birthday')\n",
    "\n",
    "# create the df of idicators \n",
    "df = pd.DataFrame(indicators, columns = columns)\n",
    "\n",
    "# remove empty rows\n",
    "df_indicators = df[df.sum(axis=1)!=0]\n",
    "\n",
    "# write it to a csv file\n",
    "\n",
    "df_indicators.to_csv(r\"/Users/ishitagopal/Box/rep_indicators.csv\")"
   ]
  },
  {
   "cell_type": "code",
   "execution_count": 174,
   "metadata": {
    "collapsed": false
   },
   "outputs": [
    {
     "data": {
      "text/plain": [
       "1935    448\n",
       "1937    453\n",
       "1939    463\n",
       "1941    456\n",
       "1943    456\n",
       "1945    451\n",
       "1947    453\n",
       "1949    447\n",
       "1951    452\n",
       "1953    444\n",
       "1955    442\n",
       "1957    446\n",
       "1959    449\n",
       "1961    450\n",
       "1963    446\n",
       "1965    445\n",
       "1967    440\n",
       "1969    449\n",
       "1971    446\n",
       "1973    444\n",
       "1975    447\n",
       "1977    445\n",
       "1979    444\n",
       "1981    448\n",
       "1983    445\n",
       "1985    444\n",
       "1987    447\n",
       "1989    447\n",
       "1991    445\n",
       "1993    440\n",
       "1995    439\n",
       "1997    442\n",
       "1999    439\n",
       "2001    439\n",
       "2003    440\n",
       "2005    439\n",
       "2007    440\n",
       "2009    440\n",
       "2011    440\n",
       "2013    439\n",
       "2015    439\n",
       "2017    441\n",
       "2019    439\n",
       "dtype: int64"
      ]
     },
     "execution_count": 174,
     "metadata": {},
     "output_type": "execute_result"
    }
   ],
   "source": [
    "# some checks \n",
    "# there should be 435 representatives each year \n",
    "\n",
    "df_indicators.iloc[:, 2:].sum(axis=0)\n"
   ]
  },
  {
   "cell_type": "code",
   "execution_count": null,
   "metadata": {
    "collapsed": true
   },
   "outputs": [],
   "source": []
  }
 ],
 "metadata": {
  "kernelspec": {
   "display_name": "Python 3",
   "language": "python",
   "name": "python3"
  },
  "language_info": {
   "codemirror_mode": {
    "name": "ipython",
    "version": 3
   },
   "file_extension": ".py",
   "mimetype": "text/x-python",
   "name": "python",
   "nbconvert_exporter": "python",
   "pygments_lexer": "ipython3",
   "version": "3.5.5"
  }
 },
 "nbformat": 4,
 "nbformat_minor": 0
}
